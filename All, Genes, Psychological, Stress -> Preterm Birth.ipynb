{
 "cells": [
  {
   "cell_type": "code",
   "execution_count": 1,
   "metadata": {
    "scrolled": true
   },
   "outputs": [],
   "source": [
    "import pandas as pd\n",
    "import numpy as np"
   ]
  },
  {
   "cell_type": "code",
   "execution_count": 2,
   "metadata": {
    "scrolled": true
   },
   "outputs": [],
   "source": [
    "data = pd.read_csv(\"prenatal_features.csv\")"
   ]
  },
  {
   "cell_type": "code",
   "execution_count": 3,
   "metadata": {
    "scrolled": true
   },
   "outputs": [],
   "source": [
    "# data.head()"
   ]
  },
  {
   "cell_type": "code",
   "execution_count": 4,
   "metadata": {
    "scrolled": true
   },
   "outputs": [],
   "source": [
    "# BDNF_CpG1,BDNF_CpG2,BDNF_CpG3,BDNF_CpG4,BDNF_CpG5,BDNF_CpG6,BDNF_CpG7,FKBP5_CpG1,FKBP5_CpG2,\n",
    "# TNFa1,TNFa2,TNFa3,TNFa4,TNFa5,TNFaAv,FOXP3.1,FOXP3.2,FOXP3.3,FOXP3.4,FOXP3.5,FOXP3.6,FOXP3.7,FOXP3.av,OXTRmeth,\n",
    "# OXTR_CpG_934,\n",
    "# Nr3c1_CpG1,Nr3c1_CpG2,Nr3c1_CpG3,Nr3c1_CpG4,\n",
    "# total_score_phq,epds_score,idas_total,idas_gen_depression,idas_dysphoria,idas_lassitude,idas_suicidality,\n",
    "# idas_appet_gain,idas_appet_loss,idas_well_being,idas_ill_temper,idas_mania,idas_euphoria,idas_panic,\n",
    "# idas_social_anxiety,idas_claustrohobia,idas_traumatic_intrusions,idas_traumatic_avoidance,idas_checking,\n",
    "# idas_cleaning,idas_ordering,total_score_gad_7,bas_total,acs_total,eds_total,ehm_total,\n",
    "# premature_birth"
   ]
  },
  {
   "cell_type": "code",
   "execution_count": 5,
   "metadata": {
    "scrolled": true
   },
   "outputs": [],
   "source": [
    "# data = data.fillna(data.mean())"
   ]
  },
  {
   "cell_type": "code",
   "execution_count": 6,
   "metadata": {},
   "outputs": [],
   "source": [
    "# data = data.dropna()"
   ]
  },
  {
   "cell_type": "code",
   "execution_count": 7,
   "metadata": {},
   "outputs": [],
   "source": [
    "data = data.replace('#NULL!', None)"
   ]
  },
  {
   "cell_type": "code",
   "execution_count": 8,
   "metadata": {
    "scrolled": true
   },
   "outputs": [],
   "source": [
    "data = data.dropna()"
   ]
  },
  {
   "cell_type": "code",
   "execution_count": 28,
   "metadata": {},
   "outputs": [
    {
     "data": {
      "text/html": [
       "<div>\n",
       "<style scoped>\n",
       "    .dataframe tbody tr th:only-of-type {\n",
       "        vertical-align: middle;\n",
       "    }\n",
       "\n",
       "    .dataframe tbody tr th {\n",
       "        vertical-align: top;\n",
       "    }\n",
       "\n",
       "    .dataframe thead th {\n",
       "        text-align: right;\n",
       "    }\n",
       "</style>\n",
       "<table border=\"1\" class=\"dataframe\">\n",
       "  <thead>\n",
       "    <tr style=\"text-align: right;\">\n",
       "      <th></th>\n",
       "      <th>BDNF_CpG1</th>\n",
       "      <th>BDNF_CpG2</th>\n",
       "      <th>BDNF_CpG3</th>\n",
       "      <th>BDNF_CpG4</th>\n",
       "      <th>BDNF_CpG5</th>\n",
       "      <th>BDNF_CpG6</th>\n",
       "      <th>BDNF_CpG7</th>\n",
       "      <th>FKBP5_CpG1</th>\n",
       "      <th>FKBP5_CpG2</th>\n",
       "      <th>TNFa1</th>\n",
       "      <th>...</th>\n",
       "      <th>idas_traumatic_avoidance</th>\n",
       "      <th>idas_checking</th>\n",
       "      <th>idas_cleaning</th>\n",
       "      <th>idas_ordering</th>\n",
       "      <th>total_score_gad_7</th>\n",
       "      <th>bas_total</th>\n",
       "      <th>acs_total</th>\n",
       "      <th>eds_total</th>\n",
       "      <th>ehm_total</th>\n",
       "      <th>premature_birth</th>\n",
       "    </tr>\n",
       "  </thead>\n",
       "  <tbody>\n",
       "    <tr>\n",
       "      <th>1</th>\n",
       "      <td>3.00</td>\n",
       "      <td>4.00</td>\n",
       "      <td>3.00</td>\n",
       "      <td>7.00</td>\n",
       "      <td>3.00</td>\n",
       "      <td>3.00</td>\n",
       "      <td>7.00</td>\n",
       "      <td>97.00</td>\n",
       "      <td>91.00</td>\n",
       "      <td>24.5</td>\n",
       "      <td>...</td>\n",
       "      <td>4.0</td>\n",
       "      <td>3.0</td>\n",
       "      <td>7.0</td>\n",
       "      <td>5.0</td>\n",
       "      <td>0.0</td>\n",
       "      <td>2.500000</td>\n",
       "      <td>17.0</td>\n",
       "      <td>3.0</td>\n",
       "      <td>0.0</td>\n",
       "      <td>1</td>\n",
       "    </tr>\n",
       "    <tr>\n",
       "      <th>2</th>\n",
       "      <td>4.00</td>\n",
       "      <td>4.00</td>\n",
       "      <td>3.00</td>\n",
       "      <td>9.00</td>\n",
       "      <td>3.00</td>\n",
       "      <td>2.00</td>\n",
       "      <td>6.00</td>\n",
       "      <td>100.00</td>\n",
       "      <td>89.00</td>\n",
       "      <td>23.5</td>\n",
       "      <td>...</td>\n",
       "      <td>4.0</td>\n",
       "      <td>3.0</td>\n",
       "      <td>7.0</td>\n",
       "      <td>9.0</td>\n",
       "      <td>0.0</td>\n",
       "      <td>3.333333</td>\n",
       "      <td>9.0</td>\n",
       "      <td>0.0</td>\n",
       "      <td>0.0</td>\n",
       "      <td>0</td>\n",
       "    </tr>\n",
       "    <tr>\n",
       "      <th>3</th>\n",
       "      <td>4.00</td>\n",
       "      <td>2.00</td>\n",
       "      <td>3.00</td>\n",
       "      <td>9.00</td>\n",
       "      <td>4.00</td>\n",
       "      <td>2.00</td>\n",
       "      <td>5.00</td>\n",
       "      <td>100.00</td>\n",
       "      <td>96.00</td>\n",
       "      <td>24.0</td>\n",
       "      <td>...</td>\n",
       "      <td>4.0</td>\n",
       "      <td>3.0</td>\n",
       "      <td>7.0</td>\n",
       "      <td>5.0</td>\n",
       "      <td>1.0</td>\n",
       "      <td>2.708333</td>\n",
       "      <td>16.0</td>\n",
       "      <td>0.0</td>\n",
       "      <td>0.0</td>\n",
       "      <td>1</td>\n",
       "    </tr>\n",
       "    <tr>\n",
       "      <th>4</th>\n",
       "      <td>3.00</td>\n",
       "      <td>2.00</td>\n",
       "      <td>3.00</td>\n",
       "      <td>8.00</td>\n",
       "      <td>3.00</td>\n",
       "      <td>2.00</td>\n",
       "      <td>1.00</td>\n",
       "      <td>100.00</td>\n",
       "      <td>91.00</td>\n",
       "      <td>33.0</td>\n",
       "      <td>...</td>\n",
       "      <td>11.0</td>\n",
       "      <td>9.0</td>\n",
       "      <td>23.0</td>\n",
       "      <td>11.0</td>\n",
       "      <td>7.0</td>\n",
       "      <td>2.458333</td>\n",
       "      <td>13.0</td>\n",
       "      <td>11.0</td>\n",
       "      <td>2.0</td>\n",
       "      <td>0</td>\n",
       "    </tr>\n",
       "    <tr>\n",
       "      <th>5</th>\n",
       "      <td>3.00</td>\n",
       "      <td>3.00</td>\n",
       "      <td>4.00</td>\n",
       "      <td>10.00</td>\n",
       "      <td>6.00</td>\n",
       "      <td>5.00</td>\n",
       "      <td>8.00</td>\n",
       "      <td>100.00</td>\n",
       "      <td>93.00</td>\n",
       "      <td>23.5</td>\n",
       "      <td>...</td>\n",
       "      <td>5.0</td>\n",
       "      <td>3.0</td>\n",
       "      <td>12.0</td>\n",
       "      <td>9.0</td>\n",
       "      <td>2.0</td>\n",
       "      <td>2.458333</td>\n",
       "      <td>21.0</td>\n",
       "      <td>0.0</td>\n",
       "      <td>3.0</td>\n",
       "      <td>0</td>\n",
       "    </tr>\n",
       "    <tr>\n",
       "      <th>...</th>\n",
       "      <td>...</td>\n",
       "      <td>...</td>\n",
       "      <td>...</td>\n",
       "      <td>...</td>\n",
       "      <td>...</td>\n",
       "      <td>...</td>\n",
       "      <td>...</td>\n",
       "      <td>...</td>\n",
       "      <td>...</td>\n",
       "      <td>...</td>\n",
       "      <td>...</td>\n",
       "      <td>...</td>\n",
       "      <td>...</td>\n",
       "      <td>...</td>\n",
       "      <td>...</td>\n",
       "      <td>...</td>\n",
       "      <td>...</td>\n",
       "      <td>...</td>\n",
       "      <td>...</td>\n",
       "      <td>...</td>\n",
       "      <td>...</td>\n",
       "    </tr>\n",
       "    <tr>\n",
       "      <th>136</th>\n",
       "      <td>3.00</td>\n",
       "      <td>2.00</td>\n",
       "      <td>4.00</td>\n",
       "      <td>7.00</td>\n",
       "      <td>3.00</td>\n",
       "      <td>1.00</td>\n",
       "      <td>6.00</td>\n",
       "      <td>98.00</td>\n",
       "      <td>89.00</td>\n",
       "      <td>26.5</td>\n",
       "      <td>...</td>\n",
       "      <td>13.0</td>\n",
       "      <td>3.0</td>\n",
       "      <td>11.0</td>\n",
       "      <td>6.0</td>\n",
       "      <td>0.0</td>\n",
       "      <td>3.291667</td>\n",
       "      <td>14.0</td>\n",
       "      <td>1.0</td>\n",
       "      <td>0.0</td>\n",
       "      <td>0</td>\n",
       "    </tr>\n",
       "    <tr>\n",
       "      <th>137</th>\n",
       "      <td>4.00</td>\n",
       "      <td>2.00</td>\n",
       "      <td>2.00</td>\n",
       "      <td>4.00</td>\n",
       "      <td>2.00</td>\n",
       "      <td>1.00</td>\n",
       "      <td>4.00</td>\n",
       "      <td>92.00</td>\n",
       "      <td>91.00</td>\n",
       "      <td>23.5</td>\n",
       "      <td>...</td>\n",
       "      <td>4.0</td>\n",
       "      <td>3.0</td>\n",
       "      <td>7.0</td>\n",
       "      <td>5.0</td>\n",
       "      <td>1.0</td>\n",
       "      <td>2.666667</td>\n",
       "      <td>13.0</td>\n",
       "      <td>5.0</td>\n",
       "      <td>1.0</td>\n",
       "      <td>0</td>\n",
       "    </tr>\n",
       "    <tr>\n",
       "      <th>138</th>\n",
       "      <td>3.00</td>\n",
       "      <td>2.00</td>\n",
       "      <td>3.00</td>\n",
       "      <td>6.00</td>\n",
       "      <td>4.00</td>\n",
       "      <td>2.00</td>\n",
       "      <td>5.00</td>\n",
       "      <td>100.00</td>\n",
       "      <td>91.50</td>\n",
       "      <td>24.0</td>\n",
       "      <td>...</td>\n",
       "      <td>4.0</td>\n",
       "      <td>3.0</td>\n",
       "      <td>8.0</td>\n",
       "      <td>9.0</td>\n",
       "      <td>0.0</td>\n",
       "      <td>2.875000</td>\n",
       "      <td>11.0</td>\n",
       "      <td>0.0</td>\n",
       "      <td>0.0</td>\n",
       "      <td>0</td>\n",
       "    </tr>\n",
       "    <tr>\n",
       "      <th>139</th>\n",
       "      <td>10.00</td>\n",
       "      <td>6.00</td>\n",
       "      <td>2.00</td>\n",
       "      <td>6.00</td>\n",
       "      <td>3.00</td>\n",
       "      <td>2.00</td>\n",
       "      <td>4.00</td>\n",
       "      <td>99.00</td>\n",
       "      <td>90.00</td>\n",
       "      <td>25.0</td>\n",
       "      <td>...</td>\n",
       "      <td>5.0</td>\n",
       "      <td>3.0</td>\n",
       "      <td>7.0</td>\n",
       "      <td>6.0</td>\n",
       "      <td>1.0</td>\n",
       "      <td>3.208333</td>\n",
       "      <td>14.0</td>\n",
       "      <td>0.0</td>\n",
       "      <td>0.0</td>\n",
       "      <td>0</td>\n",
       "    </tr>\n",
       "    <tr>\n",
       "      <th>140</th>\n",
       "      <td>4.00</td>\n",
       "      <td>1.00</td>\n",
       "      <td>3.00</td>\n",
       "      <td>8.00</td>\n",
       "      <td>2.00</td>\n",
       "      <td>1.00</td>\n",
       "      <td>4.00</td>\n",
       "      <td>98.00</td>\n",
       "      <td>90.00</td>\n",
       "      <td>28.0</td>\n",
       "      <td>...</td>\n",
       "      <td>4.0</td>\n",
       "      <td>5.0</td>\n",
       "      <td>13.0</td>\n",
       "      <td>7.0</td>\n",
       "      <td>4.0</td>\n",
       "      <td>3.541667</td>\n",
       "      <td>9.0</td>\n",
       "      <td>8.0</td>\n",
       "      <td>2.0</td>\n",
       "      <td>0</td>\n",
       "    </tr>\n",
       "  </tbody>\n",
       "</table>\n",
       "<p>127 rows × 56 columns</p>\n",
       "</div>"
      ],
      "text/plain": [
       "    BDNF_CpG1 BDNF_CpG2 BDNF_CpG3 BDNF_CpG4 BDNF_CpG5 BDNF_CpG6 BDNF_CpG7  \\\n",
       "1        3.00      4.00      3.00      7.00      3.00      3.00      7.00   \n",
       "2        4.00      4.00      3.00      9.00      3.00      2.00      6.00   \n",
       "3        4.00      2.00      3.00      9.00      4.00      2.00      5.00   \n",
       "4        3.00      2.00      3.00      8.00      3.00      2.00      1.00   \n",
       "5        3.00      3.00      4.00     10.00      6.00      5.00      8.00   \n",
       "..        ...       ...       ...       ...       ...       ...       ...   \n",
       "136      3.00      2.00      4.00      7.00      3.00      1.00      6.00   \n",
       "137      4.00      2.00      2.00      4.00      2.00      1.00      4.00   \n",
       "138      3.00      2.00      3.00      6.00      4.00      2.00      5.00   \n",
       "139     10.00      6.00      2.00      6.00      3.00      2.00      4.00   \n",
       "140      4.00      1.00      3.00      8.00      2.00      1.00      4.00   \n",
       "\n",
       "    FKBP5_CpG1 FKBP5_CpG2  TNFa1  ...  idas_traumatic_avoidance  \\\n",
       "1        97.00      91.00   24.5  ...                       4.0   \n",
       "2       100.00      89.00   23.5  ...                       4.0   \n",
       "3       100.00      96.00   24.0  ...                       4.0   \n",
       "4       100.00      91.00   33.0  ...                      11.0   \n",
       "5       100.00      93.00   23.5  ...                       5.0   \n",
       "..         ...        ...    ...  ...                       ...   \n",
       "136      98.00      89.00   26.5  ...                      13.0   \n",
       "137      92.00      91.00   23.5  ...                       4.0   \n",
       "138     100.00      91.50   24.0  ...                       4.0   \n",
       "139      99.00      90.00   25.0  ...                       5.0   \n",
       "140      98.00      90.00   28.0  ...                       4.0   \n",
       "\n",
       "     idas_checking  idas_cleaning  idas_ordering  total_score_gad_7  \\\n",
       "1              3.0            7.0            5.0                0.0   \n",
       "2              3.0            7.0            9.0                0.0   \n",
       "3              3.0            7.0            5.0                1.0   \n",
       "4              9.0           23.0           11.0                7.0   \n",
       "5              3.0           12.0            9.0                2.0   \n",
       "..             ...            ...            ...                ...   \n",
       "136            3.0           11.0            6.0                0.0   \n",
       "137            3.0            7.0            5.0                1.0   \n",
       "138            3.0            8.0            9.0                0.0   \n",
       "139            3.0            7.0            6.0                1.0   \n",
       "140            5.0           13.0            7.0                4.0   \n",
       "\n",
       "     bas_total  acs_total  eds_total  ehm_total  premature_birth  \n",
       "1     2.500000       17.0        3.0        0.0                1  \n",
       "2     3.333333        9.0        0.0        0.0                0  \n",
       "3     2.708333       16.0        0.0        0.0                1  \n",
       "4     2.458333       13.0       11.0        2.0                0  \n",
       "5     2.458333       21.0        0.0        3.0                0  \n",
       "..         ...        ...        ...        ...              ...  \n",
       "136   3.291667       14.0        1.0        0.0                0  \n",
       "137   2.666667       13.0        5.0        1.0                0  \n",
       "138   2.875000       11.0        0.0        0.0                0  \n",
       "139   3.208333       14.0        0.0        0.0                0  \n",
       "140   3.541667        9.0        8.0        2.0                0  \n",
       "\n",
       "[127 rows x 56 columns]"
      ]
     },
     "execution_count": 28,
     "metadata": {},
     "output_type": "execute_result"
    }
   ],
   "source": [
    "# data"
   ]
  },
  {
   "cell_type": "code",
   "execution_count": 10,
   "metadata": {
    "scrolled": true
   },
   "outputs": [],
   "source": [
    "# data.to_string()"
   ]
  },
  {
   "cell_type": "code",
   "execution_count": 11,
   "metadata": {},
   "outputs": [],
   "source": [
    "x1 = data.iloc[:, 1:9]\n",
    "x2 = data.iloc[:, 24:29]\n",
    "stress = [x1, x2]"
   ]
  },
  {
   "cell_type": "code",
   "execution_count": 12,
   "metadata": {
    "scrolled": true
   },
   "outputs": [],
   "source": [
    "X = data.iloc[:,:-1]\n",
    "X_genes = data.iloc[:,9:24]\n",
    "X_psy = data.iloc[:, 29:-1]\n",
    "X_stress = pd.concat(stress, axis=1, sort=False)\n",
    "y = data.iloc[:,-1]"
   ]
  },
  {
   "cell_type": "code",
   "execution_count": 32,
   "metadata": {},
   "outputs": [
    {
     "data": {
      "text/html": [
       "<div>\n",
       "<style scoped>\n",
       "    .dataframe tbody tr th:only-of-type {\n",
       "        vertical-align: middle;\n",
       "    }\n",
       "\n",
       "    .dataframe tbody tr th {\n",
       "        vertical-align: top;\n",
       "    }\n",
       "\n",
       "    .dataframe thead th {\n",
       "        text-align: right;\n",
       "    }\n",
       "</style>\n",
       "<table border=\"1\" class=\"dataframe\">\n",
       "  <thead>\n",
       "    <tr style=\"text-align: right;\">\n",
       "      <th></th>\n",
       "      <th>TNFa1</th>\n",
       "      <th>TNFa2</th>\n",
       "      <th>TNFa3</th>\n",
       "      <th>TNFa4</th>\n",
       "      <th>TNFa5</th>\n",
       "      <th>FOXP3.1</th>\n",
       "      <th>FOXP3.2</th>\n",
       "      <th>FOXP3.3</th>\n",
       "      <th>FOXP3.4</th>\n",
       "      <th>FOXP3.5</th>\n",
       "      <th>FOXP3.6</th>\n",
       "      <th>FOXP3.7</th>\n",
       "      <th>OXTRmeth</th>\n",
       "    </tr>\n",
       "  </thead>\n",
       "  <tbody>\n",
       "    <tr>\n",
       "      <th>1</th>\n",
       "      <td>24.5</td>\n",
       "      <td>19.0</td>\n",
       "      <td>6.5</td>\n",
       "      <td>12.5</td>\n",
       "      <td>19.5</td>\n",
       "      <td>98.5</td>\n",
       "      <td>92.0</td>\n",
       "      <td>100.0</td>\n",
       "      <td>97.5</td>\n",
       "      <td>88.0</td>\n",
       "      <td>85.0</td>\n",
       "      <td>91.0</td>\n",
       "      <td>41.0</td>\n",
       "    </tr>\n",
       "    <tr>\n",
       "      <th>2</th>\n",
       "      <td>23.5</td>\n",
       "      <td>17.5</td>\n",
       "      <td>9.0</td>\n",
       "      <td>14.5</td>\n",
       "      <td>28.0</td>\n",
       "      <td>98.5</td>\n",
       "      <td>90.5</td>\n",
       "      <td>99.0</td>\n",
       "      <td>97.0</td>\n",
       "      <td>81.5</td>\n",
       "      <td>82.0</td>\n",
       "      <td>95.5</td>\n",
       "      <td>51.0</td>\n",
       "    </tr>\n",
       "    <tr>\n",
       "      <th>3</th>\n",
       "      <td>24.0</td>\n",
       "      <td>21.0</td>\n",
       "      <td>8.5</td>\n",
       "      <td>13.0</td>\n",
       "      <td>24.0</td>\n",
       "      <td>100.0</td>\n",
       "      <td>88.0</td>\n",
       "      <td>100.0</td>\n",
       "      <td>99.5</td>\n",
       "      <td>86.0</td>\n",
       "      <td>79.0</td>\n",
       "      <td>96.0</td>\n",
       "      <td>56.0</td>\n",
       "    </tr>\n",
       "    <tr>\n",
       "      <th>4</th>\n",
       "      <td>33.0</td>\n",
       "      <td>28.5</td>\n",
       "      <td>7.0</td>\n",
       "      <td>13.5</td>\n",
       "      <td>22.5</td>\n",
       "      <td>99.5</td>\n",
       "      <td>90.0</td>\n",
       "      <td>99.0</td>\n",
       "      <td>98.5</td>\n",
       "      <td>87.0</td>\n",
       "      <td>82.0</td>\n",
       "      <td>92.5</td>\n",
       "      <td>49.0</td>\n",
       "    </tr>\n",
       "    <tr>\n",
       "      <th>5</th>\n",
       "      <td>23.5</td>\n",
       "      <td>22.0</td>\n",
       "      <td>6.5</td>\n",
       "      <td>13.0</td>\n",
       "      <td>19.5</td>\n",
       "      <td>99.0</td>\n",
       "      <td>93.0</td>\n",
       "      <td>100.0</td>\n",
       "      <td>96.0</td>\n",
       "      <td>86.0</td>\n",
       "      <td>84.0</td>\n",
       "      <td>92.0</td>\n",
       "      <td>43.0</td>\n",
       "    </tr>\n",
       "    <tr>\n",
       "      <th>...</th>\n",
       "      <td>...</td>\n",
       "      <td>...</td>\n",
       "      <td>...</td>\n",
       "      <td>...</td>\n",
       "      <td>...</td>\n",
       "      <td>...</td>\n",
       "      <td>...</td>\n",
       "      <td>...</td>\n",
       "      <td>...</td>\n",
       "      <td>...</td>\n",
       "      <td>...</td>\n",
       "      <td>...</td>\n",
       "      <td>...</td>\n",
       "    </tr>\n",
       "    <tr>\n",
       "      <th>136</th>\n",
       "      <td>26.5</td>\n",
       "      <td>27.5</td>\n",
       "      <td>6.0</td>\n",
       "      <td>17.5</td>\n",
       "      <td>27.5</td>\n",
       "      <td>97.5</td>\n",
       "      <td>84.5</td>\n",
       "      <td>100.0</td>\n",
       "      <td>93.5</td>\n",
       "      <td>76.0</td>\n",
       "      <td>72.5</td>\n",
       "      <td>96.5</td>\n",
       "      <td>37.0</td>\n",
       "    </tr>\n",
       "    <tr>\n",
       "      <th>137</th>\n",
       "      <td>23.5</td>\n",
       "      <td>17.5</td>\n",
       "      <td>10.5</td>\n",
       "      <td>12.5</td>\n",
       "      <td>22.5</td>\n",
       "      <td>98.5</td>\n",
       "      <td>88.5</td>\n",
       "      <td>100.0</td>\n",
       "      <td>95.0</td>\n",
       "      <td>86.5</td>\n",
       "      <td>79.0</td>\n",
       "      <td>100.0</td>\n",
       "      <td>32.0</td>\n",
       "    </tr>\n",
       "    <tr>\n",
       "      <th>138</th>\n",
       "      <td>24.0</td>\n",
       "      <td>19.0</td>\n",
       "      <td>9.0</td>\n",
       "      <td>14.5</td>\n",
       "      <td>24.5</td>\n",
       "      <td>98.5</td>\n",
       "      <td>86.0</td>\n",
       "      <td>99.0</td>\n",
       "      <td>95.5</td>\n",
       "      <td>84.0</td>\n",
       "      <td>77.5</td>\n",
       "      <td>95.5</td>\n",
       "      <td>52.0</td>\n",
       "    </tr>\n",
       "    <tr>\n",
       "      <th>139</th>\n",
       "      <td>25.0</td>\n",
       "      <td>22.5</td>\n",
       "      <td>11.5</td>\n",
       "      <td>18.5</td>\n",
       "      <td>30.0</td>\n",
       "      <td>99.0</td>\n",
       "      <td>83.5</td>\n",
       "      <td>100.0</td>\n",
       "      <td>95.5</td>\n",
       "      <td>85.5</td>\n",
       "      <td>75.5</td>\n",
       "      <td>97.5</td>\n",
       "      <td>45.0</td>\n",
       "    </tr>\n",
       "    <tr>\n",
       "      <th>140</th>\n",
       "      <td>28.0</td>\n",
       "      <td>32.0</td>\n",
       "      <td>9.0</td>\n",
       "      <td>17.5</td>\n",
       "      <td>26.0</td>\n",
       "      <td>99.0</td>\n",
       "      <td>88.0</td>\n",
       "      <td>100.0</td>\n",
       "      <td>96.0</td>\n",
       "      <td>86.0</td>\n",
       "      <td>79.5</td>\n",
       "      <td>98.5</td>\n",
       "      <td>57.0</td>\n",
       "    </tr>\n",
       "  </tbody>\n",
       "</table>\n",
       "<p>127 rows × 13 columns</p>\n",
       "</div>"
      ],
      "text/plain": [
       "     TNFa1  TNFa2  TNFa3  TNFa4  TNFa5  FOXP3.1  FOXP3.2  FOXP3.3  FOXP3.4  \\\n",
       "1     24.5   19.0    6.5   12.5   19.5     98.5     92.0    100.0     97.5   \n",
       "2     23.5   17.5    9.0   14.5   28.0     98.5     90.5     99.0     97.0   \n",
       "3     24.0   21.0    8.5   13.0   24.0    100.0     88.0    100.0     99.5   \n",
       "4     33.0   28.5    7.0   13.5   22.5     99.5     90.0     99.0     98.5   \n",
       "5     23.5   22.0    6.5   13.0   19.5     99.0     93.0    100.0     96.0   \n",
       "..     ...    ...    ...    ...    ...      ...      ...      ...      ...   \n",
       "136   26.5   27.5    6.0   17.5   27.5     97.5     84.5    100.0     93.5   \n",
       "137   23.5   17.5   10.5   12.5   22.5     98.5     88.5    100.0     95.0   \n",
       "138   24.0   19.0    9.0   14.5   24.5     98.5     86.0     99.0     95.5   \n",
       "139   25.0   22.5   11.5   18.5   30.0     99.0     83.5    100.0     95.5   \n",
       "140   28.0   32.0    9.0   17.5   26.0     99.0     88.0    100.0     96.0   \n",
       "\n",
       "     FOXP3.5  FOXP3.6  FOXP3.7  OXTRmeth  \n",
       "1       88.0     85.0     91.0      41.0  \n",
       "2       81.5     82.0     95.5      51.0  \n",
       "3       86.0     79.0     96.0      56.0  \n",
       "4       87.0     82.0     92.5      49.0  \n",
       "5       86.0     84.0     92.0      43.0  \n",
       "..       ...      ...      ...       ...  \n",
       "136     76.0     72.5     96.5      37.0  \n",
       "137     86.5     79.0    100.0      32.0  \n",
       "138     84.0     77.5     95.5      52.0  \n",
       "139     85.5     75.5     97.5      45.0  \n",
       "140     86.0     79.5     98.5      57.0  \n",
       "\n",
       "[127 rows x 13 columns]"
      ]
     },
     "execution_count": 32,
     "metadata": {},
     "output_type": "execute_result"
    }
   ],
   "source": [
    "X_genes"
   ]
  },
  {
   "cell_type": "code",
   "execution_count": 13,
   "metadata": {
    "scrolled": true
   },
   "outputs": [],
   "source": [
    "# data.to_string()"
   ]
  },
  {
   "cell_type": "code",
   "execution_count": 14,
   "metadata": {},
   "outputs": [],
   "source": [
    "X_genes = X_genes.drop(['TNFaAv', 'FOXP3.av'], axis = 1)\n",
    "X_stress = X_stress.drop(['OXTR_CpG_934'], axis = 1)"
   ]
  },
  {
   "cell_type": "code",
   "execution_count": 15,
   "metadata": {
    "scrolled": true
   },
   "outputs": [],
   "source": [
    "from sklearn.model_selection import train_test_split"
   ]
  },
  {
   "cell_type": "markdown",
   "metadata": {},
   "source": [
    "All features considered:"
   ]
  },
  {
   "cell_type": "code",
   "execution_count": 16,
   "metadata": {
    "scrolled": true
   },
   "outputs": [],
   "source": [
    "# x_t, x_test, y_t, y_test = train_test_split(X, y, test_size = 0.2, random_state = 1, stratify = y)"
   ]
  },
  {
   "cell_type": "markdown",
   "metadata": {},
   "source": [
    "Only genes considered:"
   ]
  },
  {
   "cell_type": "code",
   "execution_count": 17,
   "metadata": {
    "scrolled": true
   },
   "outputs": [],
   "source": [
    "# x_t, x_test, y_t, y_test = train_test_split(X_genes, y, test_size = 0.2, random_state = 1, stratify = y)"
   ]
  },
  {
   "cell_type": "markdown",
   "metadata": {},
   "source": [
    "Only psychological features considered:"
   ]
  },
  {
   "cell_type": "code",
   "execution_count": 18,
   "metadata": {
    "scrolled": true
   },
   "outputs": [],
   "source": [
    "# x_t, x_test, y_t, y_test = train_test_split(X_psy, y, test_size = 0.2, random_state = 1, stratify = y)"
   ]
  },
  {
   "cell_type": "markdown",
   "metadata": {},
   "source": [
    "Only stress features considered:"
   ]
  },
  {
   "cell_type": "code",
   "execution_count": 19,
   "metadata": {},
   "outputs": [],
   "source": [
    "x_t, x_test, y_t, y_test = train_test_split(X_stress, y, test_size = 0.2, random_state = 1, stratify = y)"
   ]
  },
  {
   "cell_type": "code",
   "execution_count": 20,
   "metadata": {
    "scrolled": true
   },
   "outputs": [],
   "source": [
    "# x_t, x_test, y_t, y_test = train_test_split(X, y, test_size = 0.2, random_state = 1, stratify = y)\n",
    "# x_training, x_validation, y_training, y_validation = train_test_split(x_t, y_t, test_size = 0.2, random_state = 1, stratify = y_t)"
   ]
  },
  {
   "cell_type": "code",
   "execution_count": 21,
   "metadata": {
    "scrolled": true
   },
   "outputs": [],
   "source": [
    "from sklearn.ensemble import RandomForestClassifier\n",
    "# from sklearn.datasets import make_classification"
   ]
  },
  {
   "cell_type": "code",
   "execution_count": 22,
   "metadata": {
    "scrolled": true
   },
   "outputs": [],
   "source": [
    "clf = RandomForestClassifier()\n",
    "# clf = RandomForestClassifier(n_estimators = 90, random_state = 1)\n",
    "# print(clf)\n",
    "# clf.fit(x_training, y_training)\n",
    "# y_predict = clf.predict(x_test)\n",
    "\n",
    "# clf = RandomForestClassifier()\n",
    "# clf.fit(X_train, y_train)\n",
    "# y_predict = clf.predict(X_test)"
   ]
  },
  {
   "cell_type": "code",
   "execution_count": 23,
   "metadata": {
    "scrolled": true
   },
   "outputs": [
    {
     "name": "stderr",
     "output_type": "stream",
     "text": [
      "/Users/amishajindal28/.pyenv/versions/3.7.4/lib/python3.7/site-packages/sklearn/ensemble/forest.py:245: FutureWarning: The default value of n_estimators will change from 10 in version 0.20 to 100 in 0.22.\n",
      "  \"10 in version 0.20 to 100 in 0.22.\", FutureWarning)\n"
     ]
    }
   ],
   "source": [
    "# from sklearn.model_selection import StratifiedShuffleSplit\n",
    "\n",
    "# sss = StratifiedShuffleSplit(n_splits = 10, test_size = 0.2, random_state = 0)\n",
    "\n",
    "from sklearn.model_selection import StratifiedKFold\n",
    "\n",
    "sss = StratifiedKFold(n_splits = 10, random_state = None)\n",
    "accuracies = []\n",
    "\n",
    "for train_index, test_index in sss.split(x_t, y_t):\n",
    "# print(\"TRAIN:\", train_index, \"TEST:\", test_index)\n",
    "    x_training, x_test = x_t.iloc[train_index], x_t.iloc[test_index]\n",
    "    y_training, y_test = y_t.iloc[train_index], y_t.iloc[test_index]\n",
    "    clf.fit(x_training, y_training)\n",
    "    accuracy = clf.score(x_test, y_test)\n",
    "    accuracies.append(accuracy)\n",
    "mean = np.mean(accuracies)    "
   ]
  },
  {
   "cell_type": "code",
   "execution_count": 24,
   "metadata": {
    "scrolled": true
   },
   "outputs": [
    {
     "name": "stdout",
     "output_type": "stream",
     "text": [
      "Accuracy: 0.7316161616161616\n"
     ]
    }
   ],
   "source": [
    "print('Accuracy:', mean)"
   ]
  },
  {
   "cell_type": "code",
   "execution_count": 25,
   "metadata": {
    "scrolled": true
   },
   "outputs": [],
   "source": [
    "# # from scipy.stats import mode\n",
    "# # from sklearn import metrics\n",
    "# import matplotlib.pyplot as plt\n",
    "\n",
    "# # labels_1 = np.zeros_like(y_predict)\n",
    "# # for i in range(10):\n",
    "# #     mask = (y_predict == i)\n",
    "# #     labels_1[mask] = mode(y_predict[mask])[0]\n",
    "\n",
    "# # from sklearn.metrics import accuracy_score\n",
    "# # import seaborn as sns\n",
    "\n",
    "# # print(accuracy_score(digits.target, labels_1))\n",
    "# print(\"Accuracy:\", clf.score(x_test, y_test))\n",
    "# # print(\"Accuracy:\", accuracy_score(y_test, y_predict))\n",
    "\n",
    "# # from sklearn.metrics import confusion_matrix\n",
    "# # mat = confusion_matrix(y_test, y_predict)\n",
    "\n",
    "# # ax = sns.heatmap(mat.T, square=True, annot=True, fmt='d', cbar=False,\n",
    "# #             xticklabels=y_test,\n",
    "# #             yticklabels=y_test)\n",
    "# # plt.xlabel('true label')\n",
    "# # plt.ylabel('predicted label');\n",
    "# # plt.title(\"Confusion Matrix of K-means\")\n",
    "# # print(mat)\n",
    "# # print(labels_1)\n",
    "# # print(y_test)\n",
    "\n",
    "# # ax.set_ylim(10.0, 0)\n",
    "# # plt.show()\n",
    "# # print(centers)"
   ]
  },
  {
   "cell_type": "code",
   "execution_count": 26,
   "metadata": {
    "scrolled": true
   },
   "outputs": [],
   "source": [
    "# plt.plot(x_test.iloc[:,:14], y_predict)\n",
    "# plt.ylabel(\"F-measure for Training Dataset\")\n",
    "# plt.xlabel(\"$Lambda$\")\n",
    "# plt.title(\"F-measure as a function of λ\")"
   ]
  },
  {
   "cell_type": "code",
   "execution_count": 30,
   "metadata": {},
   "outputs": [
    {
     "name": "stdout",
     "output_type": "stream",
     "text": [
      "              precision    recall  f1-score   support\n",
      "\n",
      "           0       0.75      0.86      0.80         7\n",
      "           1       0.00      0.00      0.00         2\n",
      "\n",
      "    accuracy                           0.67         9\n",
      "   macro avg       0.38      0.43      0.40         9\n",
      "weighted avg       0.58      0.67      0.62         9\n",
      "\n"
     ]
    }
   ],
   "source": [
    "from sklearn.metrics import classification_report\n",
    "y_pred = clf.predict(x_test)\n",
    "# print(classification_report(y_test, y_pred, target_names = X.columns))\n",
    "print(classification_report(y_test, y_pred))"
   ]
  },
  {
   "cell_type": "code",
   "execution_count": null,
   "metadata": {
    "scrolled": true
   },
   "outputs": [],
   "source": [
    "# import matplotlib.pyplot as plt\n",
    "\n",
    "# for feature in zip(X_psy.columns, clf.feature_importances_):\n",
    "#     print(feature)\n",
    "# plt.figure(figsize=(20,10))\n",
    "# plt.plot(X_psy.columns, clf.feature_importances_)\n",
    "# plt.ylabel(\"F-measure for Training Dataset\")\n",
    "# plt.xlabel(\"$Lambda$\")\n",
    "# plt.title(\"F-measure as a function of λ\")"
   ]
  }
 ],
 "metadata": {
  "kernelspec": {
   "display_name": "Python 3",
   "language": "python",
   "name": "python3"
  },
  "language_info": {
   "codemirror_mode": {
    "name": "ipython",
    "version": 3
   },
   "file_extension": ".py",
   "mimetype": "text/x-python",
   "name": "python",
   "nbconvert_exporter": "python",
   "pygments_lexer": "ipython3",
   "version": "3.7.4"
  }
 },
 "nbformat": 4,
 "nbformat_minor": 2
}
